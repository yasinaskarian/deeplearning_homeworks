{
 "cells": [
  {
   "cell_type": "code",
   "execution_count": 1,
   "source": [
    "#Q3\n",
    "from tensorflow.keras.datasets import cifar10"
   ],
   "outputs": [
    {
     "output_type": "stream",
     "name": "stderr",
     "text": [
      "2021-10-05 21:11:18.980300: W tensorflow/stream_executor/platform/default/dso_loader.cc:60] Could not load dynamic library 'libcudart.so.11.0'; dlerror: libcudart.so.11.0: cannot open shared object file: No such file or directory\n",
      "2021-10-05 21:11:18.980322: I tensorflow/stream_executor/cuda/cudart_stub.cc:29] Ignore above cudart dlerror if you do not have a GPU set up on your machine.\n"
     ]
    }
   ],
   "metadata": {}
  },
  {
   "cell_type": "code",
   "execution_count": 2,
   "source": [
    "(x_train, y_train), (x_test, y_test) = cifar10.load_data()"
   ],
   "outputs": [],
   "metadata": {}
  },
  {
   "cell_type": "code",
   "execution_count": 3,
   "source": [
    "import numpy as np"
   ],
   "outputs": [],
   "metadata": {}
  },
  {
   "cell_type": "code",
   "execution_count": 4,
   "source": [
    "#data type\n",
    "print((x_train.dtype, y_train.dtype, x_test.dtype, y_test.dtype))"
   ],
   "outputs": [
    {
     "output_type": "stream",
     "name": "stdout",
     "text": [
      "(dtype('uint8'), dtype('uint8'), dtype('uint8'), dtype('uint8'))\n"
     ]
    }
   ],
   "metadata": {}
  },
  {
   "cell_type": "code",
   "execution_count": 5,
   "source": [
    "#shape\n",
    "print((x_train.shape, y_train.shape, x_test.shape, y_test.shape))"
   ],
   "outputs": [
    {
     "output_type": "stream",
     "name": "stdout",
     "text": [
      "((50000, 32, 32, 3), (50000, 1), (10000, 32, 32, 3), (10000, 1))\n"
     ]
    }
   ],
   "metadata": {}
  },
  {
   "cell_type": "code",
   "execution_count": 6,
   "source": [
    "from numpy.linalg import matrix_rank"
   ],
   "outputs": [],
   "metadata": {}
  },
  {
   "cell_type": "code",
   "execution_count": 7,
   "source": [
    "#rank\n",
    "print((matrix_rank(x_train),matrix_rank(y_train), matrix_rank(x_test), matrix_rank(y_test)))"
   ],
   "outputs": [
    {
     "output_type": "stream",
     "name": "stdout",
     "text": [
      "(array([[3, 3, 3, ..., 3, 3, 3],\n",
      "       [3, 3, 3, ..., 3, 3, 3],\n",
      "       [3, 3, 3, ..., 3, 3, 3],\n",
      "       ...,\n",
      "       [3, 3, 3, ..., 3, 3, 3],\n",
      "       [3, 3, 3, ..., 3, 3, 3],\n",
      "       [3, 3, 3, ..., 3, 3, 3]]), 1, array([[3, 3, 3, ..., 3, 3, 3],\n",
      "       [3, 3, 3, ..., 3, 3, 3],\n",
      "       [3, 3, 3, ..., 3, 3, 3],\n",
      "       ...,\n",
      "       [3, 3, 3, ..., 3, 3, 3],\n",
      "       [3, 3, 3, ..., 3, 3, 3],\n",
      "       [3, 3, 3, ..., 3, 3, 3]]), 1)\n"
     ]
    }
   ],
   "metadata": {}
  },
  {
   "cell_type": "code",
   "execution_count": 9,
   "source": [
    "#Q4\n",
    "import pandas as pd\n",
    "from sklearn.datasets import load_iris\n",
    "from sklearn.model_selection import train_test_split"
   ],
   "outputs": [],
   "metadata": {}
  },
  {
   "cell_type": "code",
   "execution_count": 10,
   "source": [
    "iris = load_iris()\n",
    "df = pd.DataFrame(data= np.c_[iris['data'], iris['target']],\n",
    "                     columns= iris['feature_names'] + ['target'])"
   ],
   "outputs": [],
   "metadata": {}
  },
  {
   "cell_type": "code",
   "execution_count": 18,
   "source": [
    "Cn = len(iris.target_names)\n",
    "print (\"{} class labels\".format(Cn))"
   ],
   "outputs": [
    {
     "output_type": "stream",
     "name": "stdout",
     "text": [
      "3 class labels\n"
     ]
    }
   ],
   "metadata": {}
  },
  {
   "cell_type": "code",
   "execution_count": 11,
   "source": [
    "df.head()"
   ],
   "outputs": [
    {
     "output_type": "execute_result",
     "data": {
      "text/html": [
       "<div>\n",
       "<style scoped>\n",
       "    .dataframe tbody tr th:only-of-type {\n",
       "        vertical-align: middle;\n",
       "    }\n",
       "\n",
       "    .dataframe tbody tr th {\n",
       "        vertical-align: top;\n",
       "    }\n",
       "\n",
       "    .dataframe thead th {\n",
       "        text-align: right;\n",
       "    }\n",
       "</style>\n",
       "<table border=\"1\" class=\"dataframe\">\n",
       "  <thead>\n",
       "    <tr style=\"text-align: right;\">\n",
       "      <th></th>\n",
       "      <th>sepal length (cm)</th>\n",
       "      <th>sepal width (cm)</th>\n",
       "      <th>petal length (cm)</th>\n",
       "      <th>petal width (cm)</th>\n",
       "      <th>target</th>\n",
       "    </tr>\n",
       "  </thead>\n",
       "  <tbody>\n",
       "    <tr>\n",
       "      <th>0</th>\n",
       "      <td>5.1</td>\n",
       "      <td>3.5</td>\n",
       "      <td>1.4</td>\n",
       "      <td>0.2</td>\n",
       "      <td>0.0</td>\n",
       "    </tr>\n",
       "    <tr>\n",
       "      <th>1</th>\n",
       "      <td>4.9</td>\n",
       "      <td>3.0</td>\n",
       "      <td>1.4</td>\n",
       "      <td>0.2</td>\n",
       "      <td>0.0</td>\n",
       "    </tr>\n",
       "    <tr>\n",
       "      <th>2</th>\n",
       "      <td>4.7</td>\n",
       "      <td>3.2</td>\n",
       "      <td>1.3</td>\n",
       "      <td>0.2</td>\n",
       "      <td>0.0</td>\n",
       "    </tr>\n",
       "    <tr>\n",
       "      <th>3</th>\n",
       "      <td>4.6</td>\n",
       "      <td>3.1</td>\n",
       "      <td>1.5</td>\n",
       "      <td>0.2</td>\n",
       "      <td>0.0</td>\n",
       "    </tr>\n",
       "    <tr>\n",
       "      <th>4</th>\n",
       "      <td>5.0</td>\n",
       "      <td>3.6</td>\n",
       "      <td>1.4</td>\n",
       "      <td>0.2</td>\n",
       "      <td>0.0</td>\n",
       "    </tr>\n",
       "  </tbody>\n",
       "</table>\n",
       "</div>"
      ],
      "text/plain": [
       "   sepal length (cm)  sepal width (cm)  petal length (cm)  petal width (cm)  \\\n",
       "0                5.1               3.5                1.4               0.2   \n",
       "1                4.9               3.0                1.4               0.2   \n",
       "2                4.7               3.2                1.3               0.2   \n",
       "3                4.6               3.1                1.5               0.2   \n",
       "4                5.0               3.6                1.4               0.2   \n",
       "\n",
       "   target  \n",
       "0     0.0  \n",
       "1     0.0  \n",
       "2     0.0  \n",
       "3     0.0  \n",
       "4     0.0  "
      ]
     },
     "metadata": {},
     "execution_count": 11
    }
   ],
   "metadata": {}
  },
  {
   "cell_type": "code",
   "execution_count": 19,
   "source": [
    "df.groupby(by=[\"target\"]).count()"
   ],
   "outputs": [
    {
     "output_type": "execute_result",
     "data": {
      "text/html": [
       "<div>\n",
       "<style scoped>\n",
       "    .dataframe tbody tr th:only-of-type {\n",
       "        vertical-align: middle;\n",
       "    }\n",
       "\n",
       "    .dataframe tbody tr th {\n",
       "        vertical-align: top;\n",
       "    }\n",
       "\n",
       "    .dataframe thead th {\n",
       "        text-align: right;\n",
       "    }\n",
       "</style>\n",
       "<table border=\"1\" class=\"dataframe\">\n",
       "  <thead>\n",
       "    <tr style=\"text-align: right;\">\n",
       "      <th></th>\n",
       "      <th>sepal length (cm)</th>\n",
       "      <th>sepal width (cm)</th>\n",
       "      <th>petal length (cm)</th>\n",
       "      <th>petal width (cm)</th>\n",
       "    </tr>\n",
       "    <tr>\n",
       "      <th>target</th>\n",
       "      <th></th>\n",
       "      <th></th>\n",
       "      <th></th>\n",
       "      <th></th>\n",
       "    </tr>\n",
       "  </thead>\n",
       "  <tbody>\n",
       "    <tr>\n",
       "      <th>0.0</th>\n",
       "      <td>50</td>\n",
       "      <td>50</td>\n",
       "      <td>50</td>\n",
       "      <td>50</td>\n",
       "    </tr>\n",
       "    <tr>\n",
       "      <th>1.0</th>\n",
       "      <td>50</td>\n",
       "      <td>50</td>\n",
       "      <td>50</td>\n",
       "      <td>50</td>\n",
       "    </tr>\n",
       "    <tr>\n",
       "      <th>2.0</th>\n",
       "      <td>50</td>\n",
       "      <td>50</td>\n",
       "      <td>50</td>\n",
       "      <td>50</td>\n",
       "    </tr>\n",
       "  </tbody>\n",
       "</table>\n",
       "</div>"
      ],
      "text/plain": [
       "        sepal length (cm)  sepal width (cm)  petal length (cm)  \\\n",
       "target                                                           \n",
       "0.0                    50                50                 50   \n",
       "1.0                    50                50                 50   \n",
       "2.0                    50                50                 50   \n",
       "\n",
       "        petal width (cm)  \n",
       "target                    \n",
       "0.0                   50  \n",
       "1.0                   50  \n",
       "2.0                   50  "
      ]
     },
     "metadata": {},
     "execution_count": 19
    }
   ],
   "metadata": {}
  },
  {
   "cell_type": "code",
   "execution_count": 20,
   "source": [
    "prior = 1/3"
   ],
   "outputs": [],
   "metadata": {}
  },
  {
   "cell_type": "code",
   "execution_count": 47,
   "source": [
    "np.random.seed(42)\n",
    "msk = np.random.rand(len(df)) < 0.8\n",
    "train = df[msk]\n",
    "test = df[~msk]\n",
    "len(test)"
   ],
   "outputs": [
    {
     "output_type": "execute_result",
     "data": {
      "text/plain": [
       "31"
      ]
     },
     "metadata": {},
     "execution_count": 47
    }
   ],
   "metadata": {}
  },
  {
   "cell_type": "code",
   "execution_count": 48,
   "source": [
    "means = train.groupby(by=[\"target\"]).mean()\n",
    "means"
   ],
   "outputs": [
    {
     "output_type": "execute_result",
     "data": {
      "text/html": [
       "<div>\n",
       "<style scoped>\n",
       "    .dataframe tbody tr th:only-of-type {\n",
       "        vertical-align: middle;\n",
       "    }\n",
       "\n",
       "    .dataframe tbody tr th {\n",
       "        vertical-align: top;\n",
       "    }\n",
       "\n",
       "    .dataframe thead th {\n",
       "        text-align: right;\n",
       "    }\n",
       "</style>\n",
       "<table border=\"1\" class=\"dataframe\">\n",
       "  <thead>\n",
       "    <tr style=\"text-align: right;\">\n",
       "      <th></th>\n",
       "      <th>sepal length (cm)</th>\n",
       "      <th>sepal width (cm)</th>\n",
       "      <th>petal length (cm)</th>\n",
       "      <th>petal width (cm)</th>\n",
       "    </tr>\n",
       "    <tr>\n",
       "      <th>target</th>\n",
       "      <th></th>\n",
       "      <th></th>\n",
       "      <th></th>\n",
       "      <th></th>\n",
       "    </tr>\n",
       "  </thead>\n",
       "  <tbody>\n",
       "    <tr>\n",
       "      <th>0.0</th>\n",
       "      <td>5.009524</td>\n",
       "      <td>3.442857</td>\n",
       "      <td>1.464286</td>\n",
       "      <td>0.247619</td>\n",
       "    </tr>\n",
       "    <tr>\n",
       "      <th>1.0</th>\n",
       "      <td>5.927500</td>\n",
       "      <td>2.787500</td>\n",
       "      <td>4.257500</td>\n",
       "      <td>1.352500</td>\n",
       "    </tr>\n",
       "    <tr>\n",
       "      <th>2.0</th>\n",
       "      <td>6.629730</td>\n",
       "      <td>2.994595</td>\n",
       "      <td>5.586486</td>\n",
       "      <td>2.021622</td>\n",
       "    </tr>\n",
       "  </tbody>\n",
       "</table>\n",
       "</div>"
      ],
      "text/plain": [
       "        sepal length (cm)  sepal width (cm)  petal length (cm)  \\\n",
       "target                                                           \n",
       "0.0              5.009524          3.442857           1.464286   \n",
       "1.0              5.927500          2.787500           4.257500   \n",
       "2.0              6.629730          2.994595           5.586486   \n",
       "\n",
       "        petal width (cm)  \n",
       "target                    \n",
       "0.0             0.247619  \n",
       "1.0             1.352500  \n",
       "2.0             2.021622  "
      ]
     },
     "metadata": {},
     "execution_count": 48
    }
   ],
   "metadata": {}
  },
  {
   "cell_type": "code",
   "execution_count": 49,
   "source": [
    "var = train.groupby(by=[\"target\"]).var()\n",
    "var"
   ],
   "outputs": [
    {
     "output_type": "execute_result",
     "data": {
      "text/html": [
       "<div>\n",
       "<style scoped>\n",
       "    .dataframe tbody tr th:only-of-type {\n",
       "        vertical-align: middle;\n",
       "    }\n",
       "\n",
       "    .dataframe tbody tr th {\n",
       "        vertical-align: top;\n",
       "    }\n",
       "\n",
       "    .dataframe thead th {\n",
       "        text-align: right;\n",
       "    }\n",
       "</style>\n",
       "<table border=\"1\" class=\"dataframe\">\n",
       "  <thead>\n",
       "    <tr style=\"text-align: right;\">\n",
       "      <th></th>\n",
       "      <th>sepal length (cm)</th>\n",
       "      <th>sepal width (cm)</th>\n",
       "      <th>petal length (cm)</th>\n",
       "      <th>petal width (cm)</th>\n",
       "    </tr>\n",
       "    <tr>\n",
       "      <th>target</th>\n",
       "      <th></th>\n",
       "      <th></th>\n",
       "      <th></th>\n",
       "      <th></th>\n",
       "    </tr>\n",
       "  </thead>\n",
       "  <tbody>\n",
       "    <tr>\n",
       "      <th>0.0</th>\n",
       "      <td>0.139907</td>\n",
       "      <td>0.143972</td>\n",
       "      <td>0.033084</td>\n",
       "      <td>0.009384</td>\n",
       "    </tr>\n",
       "    <tr>\n",
       "      <th>1.0</th>\n",
       "      <td>0.263583</td>\n",
       "      <td>0.094968</td>\n",
       "      <td>0.241994</td>\n",
       "      <td>0.038968</td>\n",
       "    </tr>\n",
       "    <tr>\n",
       "      <th>2.0</th>\n",
       "      <td>0.439369</td>\n",
       "      <td>0.121637</td>\n",
       "      <td>0.310090</td>\n",
       "      <td>0.076186</td>\n",
       "    </tr>\n",
       "  </tbody>\n",
       "</table>\n",
       "</div>"
      ],
      "text/plain": [
       "        sepal length (cm)  sepal width (cm)  petal length (cm)  \\\n",
       "target                                                           \n",
       "0.0              0.139907          0.143972           0.033084   \n",
       "1.0              0.263583          0.094968           0.241994   \n",
       "2.0              0.439369          0.121637           0.310090   \n",
       "\n",
       "        petal width (cm)  \n",
       "target                    \n",
       "0.0             0.009384  \n",
       "1.0             0.038968  \n",
       "2.0             0.076186  "
      ]
     },
     "metadata": {},
     "execution_count": 49
    }
   ],
   "metadata": {}
  },
  {
   "cell_type": "code",
   "execution_count": 73,
   "source": [],
   "outputs": [
    {
     "output_type": "execute_result",
     "data": {
      "text/html": [
       "<div>\n",
       "<style scoped>\n",
       "    .dataframe tbody tr th:only-of-type {\n",
       "        vertical-align: middle;\n",
       "    }\n",
       "\n",
       "    .dataframe tbody tr th {\n",
       "        vertical-align: top;\n",
       "    }\n",
       "\n",
       "    .dataframe thead th {\n",
       "        text-align: right;\n",
       "    }\n",
       "</style>\n",
       "<table border=\"1\" class=\"dataframe\">\n",
       "  <thead>\n",
       "    <tr style=\"text-align: right;\">\n",
       "      <th></th>\n",
       "      <th>target</th>\n",
       "    </tr>\n",
       "  </thead>\n",
       "  <tbody>\n",
       "    <tr>\n",
       "      <th>1</th>\n",
       "      <td>0.0</td>\n",
       "    </tr>\n",
       "  </tbody>\n",
       "</table>\n",
       "</div>"
      ],
      "text/plain": [
       "   target\n",
       "1     0.0"
      ]
     },
     "metadata": {},
     "execution_count": 73
    }
   ],
   "metadata": {}
  },
  {
   "cell_type": "code",
   "execution_count": 51,
   "source": [
    "cp = np.zeros((len(test),Cn), dtype=float)"
   ],
   "outputs": [],
   "metadata": {}
  },
  {
   "cell_type": "code",
   "execution_count": 107,
   "source": [
    "j = 0\n",
    "for index, row in test.iterrows():\n",
    "    p = np.array([0.0, 0.0, 0.0])\n",
    "    for i in range(0,Cn):\n",
    "        sl = np.multiply((1/(np.sqrt((2*np.pi*var.iloc[[i],[0]].to_numpy()[0][0])))), np.exp(-(np.power((row[0]-means.iloc[[i],[0]].to_numpy()[0][0]),2))/(2*var.iloc[[i],[0]].to_numpy()[0][0])))\n",
    "        sw = np.multiply((1/(np.sqrt((2*np.pi*var.iloc[[i],[1]].to_numpy()[0][0])))), np.exp(-(np.power((row[1]-means.iloc[[i],[1]].to_numpy()[0][0]),2))/(2*var.iloc[[i],[1]].to_numpy()[0][0])))\n",
    "        pl = np.multiply((1/(np.sqrt((2*np.pi*var.iloc[[i],[2]].to_numpy()[0][0])))), np.exp(-(np.power((row[2]-means.iloc[[i],[2]].to_numpy()[0][0]),2))/(2*var.iloc[[i],[2]].to_numpy()[0][0])))\n",
    "        pw = np.multiply((1/(np.sqrt((2*np.pi*var.iloc[[i],[3]].to_numpy()[0][0])))), np.exp(-(np.power((row[3]-means.iloc[[i],[3]].to_numpy()[0][0]),2))/(2*var.iloc[[i],[3]].to_numpy()[0][0])))\n",
    "        p[i] = prior * sl * sw * pl * pw\n",
    "    \n",
    "        \n",
    "    cp[j] = p\n",
    "    j += 1  "
   ],
   "outputs": [],
   "metadata": {}
  },
  {
   "cell_type": "code",
   "execution_count": 127,
   "source": [
    "cp"
   ],
   "outputs": [
    {
     "output_type": "execute_result",
     "data": {
      "text/plain": [
       "array([[1.36280379e+000, 1.09246314e-016, 1.46492212e-024],\n",
       "       [2.91539069e+000, 8.88706522e-017, 4.14788028e-024],\n",
       "       [1.92389854e+000, 1.24757727e-016, 6.93750543e-024],\n",
       "       [4.29686315e-001, 3.31662129e-018, 8.37512478e-026],\n",
       "       [1.62496010e-001, 1.99008306e-020, 2.62953248e-026],\n",
       "       [1.86935806e+000, 2.64370293e-016, 5.31330984e-024],\n",
       "       [8.48078406e-001, 7.11396075e-018, 1.13735823e-025],\n",
       "       [3.38266752e-003, 2.38730452e-012, 5.22558032e-020],\n",
       "       [6.95218176e-106, 1.64081728e-002, 3.81183712e-003],\n",
       "       [1.08152718e-119, 1.76166685e-002, 1.63843282e-002],\n",
       "       [2.26765043e-070, 9.35815264e-002, 4.33573282e-006],\n",
       "       [1.12556598e-087, 4.25493387e-001, 3.71731072e-004],\n",
       "       [2.36934645e-059, 1.56517810e-002, 2.06732074e-007],\n",
       "       [1.07309667e-060, 9.87291074e-002, 2.28326458e-006],\n",
       "       [7.85039045e-058, 9.83322702e-002, 1.00568546e-006],\n",
       "       [2.24863464e-092, 2.56949587e-001, 4.95695133e-004],\n",
       "       [7.85118873e-055, 5.04689272e-002, 2.87137906e-007],\n",
       "       [2.93534216e-072, 3.24179497e-001, 6.61034732e-005],\n",
       "       [1.57856716e-215, 1.69544264e-007, 1.75754055e-001],\n",
       "       [9.08699556e-192, 3.24098495e-006, 2.18153309e-001],\n",
       "       [2.17806177e-155, 4.75764568e-004, 1.86112456e-002],\n",
       "       [2.52666324e-197, 1.54559203e-007, 9.91141083e-002],\n",
       "       [1.32138908e-166, 7.33723359e-004, 1.66836206e-001],\n",
       "       [6.60292951e-304, 6.35037079e-015, 1.26687162e-003],\n",
       "       [4.62790883e-221, 5.03427487e-009, 1.08285080e-001],\n",
       "       [6.76304933e-150, 8.80213952e-004, 2.83724062e-002],\n",
       "       [8.12735041e-132, 1.98827270e-002, 4.40422462e-002],\n",
       "       [1.40279135e-135, 1.33631599e-002, 5.84988418e-002],\n",
       "       [4.15516347e-146, 1.01224590e-002, 7.20687371e-003],\n",
       "       [5.46674618e-187, 2.83563442e-006, 1.89710600e-001],\n",
       "       [2.84352750e-224, 1.96528916e-009, 8.81903403e-002]])"
      ]
     },
     "metadata": {},
     "execution_count": 127
    }
   ],
   "metadata": {}
  },
  {
   "cell_type": "code",
   "execution_count": 125,
   "source": [
    "y_pred = cp.argmax(axis=1)\n",
    "y_pred"
   ],
   "outputs": [
    {
     "output_type": "execute_result",
     "data": {
      "text/plain": [
       "array([0, 0, 0, 0, 0, 0, 0, 0, 1, 1, 1, 1, 1, 1, 1, 1, 1, 1, 2, 2, 2, 2,\n",
       "       2, 2, 2, 2, 2, 2, 1, 2, 2])"
      ]
     },
     "metadata": {},
     "execution_count": 125
    }
   ],
   "metadata": {}
  },
  {
   "cell_type": "code",
   "execution_count": 126,
   "source": [
    "y_true = test[\"target\"].to_numpy()\n",
    "y_true"
   ],
   "outputs": [
    {
     "output_type": "execute_result",
     "data": {
      "text/plain": [
       "array([0., 0., 0., 0., 0., 0., 0., 0., 1., 1., 1., 1., 1., 1., 1., 1., 1.,\n",
       "       1., 2., 2., 2., 2., 2., 2., 2., 2., 2., 2., 2., 2., 2.])"
      ]
     },
     "metadata": {},
     "execution_count": 126
    }
   ],
   "metadata": {}
  },
  {
   "cell_type": "code",
   "execution_count": 121,
   "source": [
    "from sklearn.metrics import accuracy_score"
   ],
   "outputs": [],
   "metadata": {}
  },
  {
   "cell_type": "code",
   "execution_count": 122,
   "source": [
    "accuracy_score(y_true, y_pred)"
   ],
   "outputs": [
    {
     "output_type": "execute_result",
     "data": {
      "text/plain": [
       "0.967741935483871"
      ]
     },
     "metadata": {},
     "execution_count": 122
    }
   ],
   "metadata": {}
  },
  {
   "cell_type": "code",
   "execution_count": null,
   "source": [],
   "outputs": [],
   "metadata": {}
  }
 ],
 "metadata": {
  "orig_nbformat": 4,
  "language_info": {
   "name": "python",
   "version": "3.8.10",
   "mimetype": "text/x-python",
   "codemirror_mode": {
    "name": "ipython",
    "version": 3
   },
   "pygments_lexer": "ipython3",
   "nbconvert_exporter": "python",
   "file_extension": ".py"
  },
  "kernelspec": {
   "name": "python3",
   "display_name": "Python 3.8.10 64-bit"
  },
  "interpreter": {
   "hash": "31f2aee4e71d21fbe5cf8b01ff0e069b9275f58929596ceb00d14d90e3e16cd6"
  }
 },
 "nbformat": 4,
 "nbformat_minor": 2
}