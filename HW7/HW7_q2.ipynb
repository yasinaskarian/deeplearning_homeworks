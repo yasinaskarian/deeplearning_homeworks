{
 "cells": [
  {
   "cell_type": "code",
   "execution_count": 2,
   "metadata": {},
   "outputs": [],
   "source": [
    "import numpy as np\n",
    "    "
   ]
  },
  {
   "cell_type": "code",
   "execution_count": 14,
   "metadata": {},
   "outputs": [],
   "source": [
    "def adam(x, dx, first_moment , second_moment , itr):\n",
    "    beta1 = 0.9\n",
    "    beta2 = 0.999\n",
    "    lr = 1e-3\n",
    "    first_moment = beta1 * first_moment + (1 - beta1) * dx\n",
    "    second_moment = beta2 * second_moment + (1 - beta2) * dx * dx\n",
    "    first_unbias = first_moment / (1 - beta1 ** itr)\n",
    "    second_unbias = second_moment / (1 - beta2 ** itr)\n",
    "    x -= lr * first_unbias / (np.sqrt(second_unbias) + 1e-7)\n",
    "    return x, first_moment ,  second_moment"
   ]
  },
  {
   "cell_type": "code",
   "execution_count": 62,
   "metadata": {},
   "outputs": [],
   "source": [
    "first_moment ,  second_moment=0 ,0"
   ]
  },
  {
   "cell_type": "code",
   "execution_count": 63,
   "metadata": {},
   "outputs": [],
   "source": [
    "w, first_moment ,  second_moment = adam(-0.5, 1.265, first_moment , second_moment , 1)"
   ]
  },
  {
   "cell_type": "code",
   "execution_count": 64,
   "metadata": {},
   "outputs": [
    {
     "data": {
      "text/plain": [
       "-0.5009999999209486"
      ]
     },
     "execution_count": 64,
     "metadata": {},
     "output_type": "execute_result"
    }
   ],
   "source": [
    "w"
   ]
  },
  {
   "cell_type": "code",
   "execution_count": null,
   "metadata": {},
   "outputs": [],
   "source": []
  }
 ],
 "metadata": {
  "kernelspec": {
   "display_name": "Python 3",
   "language": "python",
   "name": "python3"
  },
  "language_info": {
   "codemirror_mode": {
    "name": "ipython",
    "version": 3
   },
   "file_extension": ".py",
   "mimetype": "text/x-python",
   "name": "python",
   "nbconvert_exporter": "python",
   "pygments_lexer": "ipython3",
   "version": "3.8.5"
  }
 },
 "nbformat": 4,
 "nbformat_minor": 4
}
